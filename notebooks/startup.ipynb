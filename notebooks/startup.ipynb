{
 "cells": [
  {
   "cell_type": "code",
   "execution_count": 1,
   "metadata": {},
   "outputs": [
    {
     "name": "stdout",
     "output_type": "stream",
     "text": [
      "Batch file created successfully at: C:\\Users\\Wolfrank\\AppData\\Roaming\\Microsoft\\Windows\\Start Menu\\Programs\\Startup\\run_wolf_scripts.bat\n"
     ]
    }
   ],
   "source": [
    "import os\n",
    "import shutil\n",
    "\n",
    "def create_startup_script():\n",
    "    user_profile = os.environ['USERPROFILE']\n",
    "    desktop_path = os.path.join(user_profile, 'Desktop')\n",
    "    startup_path = os.path.join(user_profile, 'AppData', 'Roaming', 'Microsoft', 'Windows', 'Start Menu', 'Programs', 'Startup')\n",
    "\n",
    "    wolfpivots_path = os.path.join(desktop_path, 'wolfpivots.py')\n",
    "    wolfrss_path = os.path.join(desktop_path, 'wolfrss.py')\n",
    "\n",
    "    if not os.path.exists(wolfpivots_path):\n",
    "        print(f\"File not found: {wolfpivots_path}\")\n",
    "        return\n",
    "\n",
    "    if not os.path.exists(wolfrss_path):\n",
    "        print(f\"File not found: {wolfrss_path}\")\n",
    "        return\n",
    "\n",
    "    startup_script_content = f\"\"\"@echo off\n",
    "python \"{wolfpivots_path}\"\n",
    "python \"{wolfrss_path}\"\n",
    "exit\n",
    "\"\"\"\n",
    "\n",
    "    batch_file_path = os.path.join(startup_path, 'run_wolf_scripts.bat')\n",
    "    \n",
    "    try:\n",
    "        with open(batch_file_path, 'w') as file:\n",
    "            file.write(startup_script_content)\n",
    "        print(f\"Batch file created successfully at: {batch_file_path}\")\n",
    "    except Exception as e:\n",
    "        print(f\"Failed to create batch file: {e}\")\n",
    "\n",
    "create_startup_script()\n"
   ]
  },
  {
   "cell_type": "markdown",
   "metadata": {},
   "source": [
    "### Explanation\n",
    "\n",
    "**Environment Variables**: The script uses environment variables to locate the Desktop and Startup folders dynamically.\n",
    "\n",
    "**Path Construction**: Paths to the `wolfpivots.py` and `wolfrss.py` scripts are constructed using the user's Desktop directory.\n",
    "\n",
    "**Batch File Content**: The batch file content includes commands to run both Python scripts.\n",
    "\n",
    "**File Creation**: The batch file is created in the Startup folder.\n",
    "\n",
    "### How to Use\n",
    "\n",
    "1. **Run the Python Script**: Execute the Python script (`create_startup_script()`) to create and place the batch file in the Startup folder.\n",
    "2. **Restart Windows**: After the batch file is placed in the Startup folder, it will run automatically when Windows starts.\n",
    "\n",
    "This ensures both `wolfpivots.py` and `wolfrss.py` run on Windows startup. Make sure you have Python installed and added to the system PATH for this to work seamlessly.\n"
   ]
  }
 ],
 "metadata": {
  "kernelspec": {
   "display_name": "Python 3",
   "language": "python",
   "name": "python3"
  },
  "language_info": {
   "codemirror_mode": {
    "name": "ipython",
    "version": 3
   },
   "file_extension": ".py",
   "mimetype": "text/x-python",
   "name": "python",
   "nbconvert_exporter": "python",
   "pygments_lexer": "ipython3",
   "version": "3.11.3"
  }
 },
 "nbformat": 4,
 "nbformat_minor": 2
}
